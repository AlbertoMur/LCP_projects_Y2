{
 "cells": [
  {
   "cell_type": "markdown",
   "metadata": {},
   "source": [
    "# Horse's gait pattern\n",
    "\n",
    "The horse plays a central role in human hystory since about 4000 BC. Initially used as means of transport or work tools, nowadays the main interest was moved to sports (e.g., racing and riding activities).  \n",
    "\n",
    "Among others, the [Endurance riding](https://en.wikipedia.org/wiki/Endurance_riding) is an equestrian sport based on controlled long-distance challenge. A large range of [horse's gaits](https://journals.plos.org/plosone/article?id=10.1371/journal.pone.0071804) can be observed and classified during the above mentioned competition (e.g., walk, trot, canter, ...). Therefore doing a deep analysis of movement could be useful for the race management.\n",
    "  \n",
    "MuSe(Multi-Sensor miniaturized, low-power, wireless [IMU](https://en.wikipedia.org/wiki/Inertial_measurement_unit)) is an Inertial Measurement Unit (IMU) provide by [221e](https://www.221e.com). In the context of this project, It allows to record the inertial data necessary for the estimation of horse's behavior on different situation.\n",
    "\n",
    "The goal of this assignment is to estimate the horse's stride pattern during an endurance riding, given linear acceleration and angular velocity measurements recorded by using the aforementioned MuSe platform. \n",
    "\n",
    "\n",
    "## Dataset\n",
    "\n",
    "The data is provided in .txt file (Endurance.txt). The dataset was recorded in the course of an endurance training session with MuSe placed on the center of the saddle, under the pommel. The sampling frequency was 100 Hz.\n",
    "\n",
    "All .txt files give 16 columns index, in particular: \n",
    "\n",
    "* Log Freq stands for the acquisition  in Hz (i.e., sampling interval is constant).\n",
    "* AccX, AccY, AccZ are the measured magnitude of linear acceleration along each axis.\n",
    "* GyroX, GyroY, GyroZ are the measured magnitude of angular velocity along each axis.\n",
    "* MagnX, MagnY, MagnZ are the measured magnitude of magnetic field along each axis.\n",
    "* qw, qi, qj, qk are the quaternion components, representing the spatial orientation of the Muse system.\n",
    "\n",
    "\n",
    "## Assignment\n",
    "\n",
    "Try to describe what happend during the training session (e.g. Is the horse always moving?). \n",
    "Choose properly time window over which perform statistical and time-frequency analysis. In particular looking at distances between maxima, evaluate horse's gait pattern. \n",
    "In order to verify your result, compare it with the related bibliography and properly giustify your conclusions. \n",
    "\n",
    "**N.B: Indicate the contribution, to achieving the result, of each member of the group.**"
   ]
  },
  {
   "cell_type": "code",
   "execution_count": null,
   "metadata": {},
   "outputs": [],
   "source": []
  }
 ],
 "metadata": {
  "kernelspec": {
   "display_name": "Python 3",
   "language": "python",
   "name": "python3"
  },
  "language_info": {
   "codemirror_mode": {
    "name": "ipython",
    "version": 3
   },
   "file_extension": ".py",
   "mimetype": "text/x-python",
   "name": "python",
   "nbconvert_exporter": "python",
   "pygments_lexer": "ipython3",
   "version": "3.7.0"
  }
 },
 "nbformat": 4,
 "nbformat_minor": 2
}
