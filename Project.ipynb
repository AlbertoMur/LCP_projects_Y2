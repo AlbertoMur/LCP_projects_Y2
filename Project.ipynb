{
 "cells": [
  {
   "cell_type": "markdown",
   "metadata": {},
   "source": [
    "# Analysis of horse movements \n",
    "\n",
    "### Description\n",
    "\n",
    "The goal is the study of the horse movements during a session where a Muse sensor was acquiring data. The sensor was placed on the horse saddle. The recording rate was 100 Hz. \n",
    "\n",
    "(to be completed)\n",
    "\n",
    "### Datasets\n",
    "\n",
    "(to be provided)\n",
    "\n",
    "### Contacts\n",
    "\n",
    "* Marco Zanetti <marco.zanetti@unipd.it>\n",
    "* Marco Signorelli <signo@221e.com>"
   ]
  }
 ],
 "metadata": {
  "kernelspec": {
   "display_name": "Python 3",
   "language": "python",
   "name": "python3"
  },
  "language_info": {
   "codemirror_mode": {
    "name": "ipython",
    "version": 3
   },
   "file_extension": ".py",
   "mimetype": "text/x-python",
   "name": "python",
   "nbconvert_exporter": "python",
   "pygments_lexer": "ipython3",
   "version": "3.5.4"
  }
 },
 "nbformat": 4,
 "nbformat_minor": 2
}
