{
 "cells": [
  {
   "cell_type": "markdown",
   "metadata": {},
   "source": [
    "# Critical Scale Invariance in a Healthy Human Heart Rate\n",
    "\n",
    "### Description\n",
    "\n",
    "As described in the [paper](https://journals.aps.org/prl/abstract/10.1103/PhysRevLett.93.178103) (Physics Review Letters, V93 17, 2004), a robust scale-invariance is manifested in the probability density function (PDF) of detrended healthy human heart rate increments, which is preserved not only in a quiescent condition, but also in a dynamic state where the mean level of the heart rate is dramatically changing. This scale-independent and fractal structure is markedly different from the scale-dependent PDF evolution observed in a turbulentlike, cascade heart rate model. These results strongly support the view that a healthy human heart rate is controlled to converge continually to a critical state.\n",
    "\n",
    "### Assignment\n",
    "\n",
    "to be provided\n",
    "\n",
    "### Contacts"
   ]
  },
  {
   "cell_type": "code",
   "execution_count": null,
   "metadata": {},
   "outputs": [],
   "source": []
  }
 ],
 "metadata": {
  "kernelspec": {
   "display_name": "Python 3",
   "language": "python",
   "name": "python3"
  },
  "language_info": {
   "codemirror_mode": {
    "name": "ipython",
    "version": 3
   },
   "file_extension": ".py",
   "mimetype": "text/x-python",
   "name": "python",
   "nbconvert_exporter": "python",
   "pygments_lexer": "ipython3",
   "version": "3.5.4"
  }
 },
 "nbformat": 4,
 "nbformat_minor": 2
}
