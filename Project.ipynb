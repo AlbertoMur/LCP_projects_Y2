{
 "cells": [
  {
   "cell_type": "markdown",
   "metadata": {},
   "source": [
    "# Analysis of a horse-rider movements\n",
    "\n",
    "### Description\n",
    "\n",
    "The goal is the analysis of the movements of a horse-rider during a session of Endurance. The data were recorderd by means of a Muse sensor, at a rate of 50 Hz. The sensor was placed on the rider's waistcoat.\n",
    "\n",
    "(to be completed)\n",
    "\n",
    "### Dataset\n",
    "\n",
    "(to be provided)\n",
    "\n",
    "\n",
    "### Contacts\n",
    "* Marco Zanetti <marco.zanetti@unipd.it>\n",
    "* Marco Signorelli <signo@221e.com>"
   ]
  },
  {
   "cell_type": "code",
   "execution_count": null,
   "metadata": {},
   "outputs": [],
   "source": []
  }
 ],
 "metadata": {
  "kernelspec": {
   "display_name": "Python 3",
   "language": "python",
   "name": "python3"
  },
  "language_info": {
   "codemirror_mode": {
    "name": "ipython",
    "version": 3
   },
   "file_extension": ".py",
   "mimetype": "text/x-python",
   "name": "python",
   "nbconvert_exporter": "python",
   "pygments_lexer": "ipython3",
   "version": "3.5.4"
  }
 },
 "nbformat": 4,
 "nbformat_minor": 2
}
